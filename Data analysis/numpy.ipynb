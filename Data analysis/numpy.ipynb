{
 "cells": [
  {
   "cell_type": "markdown",
   "metadata": {},
   "source": [
    "\n"
   ]
  },
  {
   "cell_type": "code",
   "execution_count": null,
   "metadata": {},
   "outputs": [
    {
     "name": "stdout",
     "output_type": "stream",
     "text": [
      "<class 'numpy.ndarray'>\n"
     ]
    }
   ],
   "source": [
    "import numpy as np\n",
    "\n",
    "\n",
    "arr1 = np.array([1,2,3,4,5])\n",
    "print(arr1)"
   ]
  },
  {
   "cell_type": "code",
   "execution_count": 6,
   "metadata": {},
   "outputs": [
    {
     "data": {
      "text/plain": [
       "array([[1, 2, 3, 4, 5]])"
      ]
     },
     "execution_count": 6,
     "metadata": {},
     "output_type": "execute_result"
    }
   ],
   "source": [
    "arr2 = np.array([1,2,3,4,5],[6,7,4,5,3])\n",
    "arr2.reshape(1,5) ##1 row and 5 columns"
   ]
  },
  {
   "cell_type": "code",
   "execution_count": 50,
   "metadata": {},
   "outputs": [
    {
     "name": "stdout",
     "output_type": "stream",
     "text": [
      "(2, 5)\n",
      "2\n",
      "10\n",
      "int64\n",
      "8\n"
     ]
    }
   ],
   "source": [
    "arr3 = np.array([[1,2,3,4,5],[6,7,4,5,3]])\n",
    "print(arr3.shape)\n",
    "print(arr3.ndim) ##Dimention\n",
    "print(arr3.size)\n",
    "print(arr3.dtype)\n",
    "print(arr3.itemsize) ##Bit size"
   ]
  },
  {
   "cell_type": "code",
   "execution_count": null,
   "metadata": {},
   "outputs": [],
   "source": []
  },
  {
   "cell_type": "code",
   "execution_count": 51,
   "metadata": {},
   "outputs": [
    {
     "data": {
      "text/plain": [
       "array([[0, 2, 4, 6, 8]])"
      ]
     },
     "execution_count": 51,
     "metadata": {},
     "output_type": "execute_result"
    }
   ],
   "source": [
    "np.arange(0,10,2).reshape(1,5)"
   ]
  },
  {
   "cell_type": "code",
   "execution_count": 52,
   "metadata": {},
   "outputs": [
    {
     "data": {
      "text/plain": [
       "array([[1., 1., 1.],\n",
       "       [1., 1., 1.]])"
      ]
     },
     "execution_count": 52,
     "metadata": {},
     "output_type": "execute_result"
    }
   ],
   "source": [
    "np.ones((2,3))"
   ]
  },
  {
   "cell_type": "code",
   "execution_count": 53,
   "metadata": {},
   "outputs": [
    {
     "data": {
      "text/plain": [
       "array([[1., 0., 0.],\n",
       "       [0., 1., 0.],\n",
       "       [0., 0., 1.]])"
      ]
     },
     "execution_count": 53,
     "metadata": {},
     "output_type": "execute_result"
    }
   ],
   "source": [
    "np.eye(3)"
   ]
  },
  {
   "cell_type": "code",
   "execution_count": 57,
   "metadata": {},
   "outputs": [
    {
     "name": "stdout",
     "output_type": "stream",
     "text": [
      "[ 3  5  7 13 14]\n",
      "[-1 -1 -1  3 -4]\n",
      "[ 2  6 12 40 45]\n",
      "[0.5        0.66666667 0.75       1.6        0.55555556]\n"
     ]
    }
   ],
   "source": [
    "## Vectorized operation\n",
    "\n",
    "arr1 = np.array([1,2,3,8,5])\n",
    "arr2 = np.array([2,3,4,5,9])\n",
    "\n",
    "print(arr1+arr2)\n",
    "\n",
    "print(arr1-arr2)\n",
    "\n",
    "print(arr1*arr2)\n",
    "\n",
    "print(arr1/arr2)"
   ]
  },
  {
   "cell_type": "code",
   "execution_count": 58,
   "metadata": {},
   "outputs": [
    {
     "name": "stdout",
     "output_type": "stream",
     "text": [
      "[1.41421356 1.73205081 2.         2.23606798 3.        ]\n",
      "[7.38905610e+00 2.00855369e+01 5.45981500e+01 1.48413159e+02\n",
      " 8.10308393e+03]\n",
      "[ 0.90929743  0.14112001 -0.7568025  -0.95892427  0.41211849]\n",
      "[0.69314718 1.09861229 1.38629436 1.60943791 2.19722458]\n"
     ]
    }
   ],
   "source": [
    "## Universal functions\n",
    "arr = np.array([2,3,4,5,9])\n",
    "\n",
    "print(np.sqrt(arr))\n",
    "\n",
    "print(np.exp(arr))\n",
    "\n",
    "print(np.sin(arr))\n",
    "\n",
    "print(np.log(arr))\n",
    "\n",
    "\n"
   ]
  },
  {
   "cell_type": "code",
   "execution_count": 79,
   "metadata": {},
   "outputs": [
    {
     "name": "stdout",
     "output_type": "stream",
     "text": [
      "[[1 2 4 5 7]\n",
      " [3 6 7 3 6]\n",
      " [4 3 7 1 5]]\n",
      "Pickup element\n",
      "6\n",
      "[[4 5]\n",
      " [7 3]\n",
      " [7 1]]\n"
     ]
    }
   ],
   "source": [
    "##Array slicing and indexing\n",
    "\n",
    "arr = np.array([[1,2,4,5,7],[3,6,7,3,6],[4,3,7,1,5]])\n",
    "print(arr)\n",
    "print(\"Pickup element\")\n",
    "print(arr[1][4])\n",
    "print(arr[0:4,2:4])\n",
    "\n"
   ]
  },
  {
   "cell_type": "code",
   "execution_count": 80,
   "metadata": {},
   "outputs": [
    {
     "name": "stdout",
     "output_type": "stream",
     "text": [
      "[[100   2   4   5   7]\n",
      " [  3   6   7   3   6]\n",
      " [  4   3   7   1   5]]\n"
     ]
    }
   ],
   "source": [
    "##modify elemet\n",
    "\n",
    "arr[0][0] = 100\n",
    "print(arr)"
   ]
  },
  {
   "cell_type": "code",
   "execution_count": 86,
   "metadata": {},
   "outputs": [
    {
     "data": {
      "text/plain": [
       "array([6, 7, 8, 9])"
      ]
     },
     "execution_count": 86,
     "metadata": {},
     "output_type": "execute_result"
    }
   ],
   "source": [
    "##Logical concepts\n",
    "\n",
    "data = np.array([1,2,3,4,5,6,7,8,9])\n",
    "data>5\n",
    "data[data>3]\n",
    "data[(data>5) & (data<=9)]\n"
   ]
  }
 ],
 "metadata": {
  "kernelspec": {
   "display_name": "Python 3",
   "language": "python",
   "name": "python3"
  },
  "language_info": {
   "codemirror_mode": {
    "name": "ipython",
    "version": 3
   },
   "file_extension": ".py",
   "mimetype": "text/x-python",
   "name": "python",
   "nbconvert_exporter": "python",
   "pygments_lexer": "ipython3",
   "version": "3.12.0"
  }
 },
 "nbformat": 4,
 "nbformat_minor": 2
}
