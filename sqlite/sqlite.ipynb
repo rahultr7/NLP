{
 "cells": [
  {
   "cell_type": "code",
   "execution_count": 3,
   "metadata": {},
   "outputs": [],
   "source": [
    "import sqlite3"
   ]
  },
  {
   "cell_type": "code",
   "execution_count": 4,
   "metadata": {},
   "outputs": [
    {
     "data": {
      "text/plain": [
       "<sqlite3.Connection at 0x709928141e40>"
      ]
     },
     "execution_count": 4,
     "metadata": {},
     "output_type": "execute_result"
    }
   ],
   "source": [
    "connect = sqlite3.connect('example.db')\n",
    "connect"
   ]
  },
  {
   "cell_type": "code",
   "execution_count": 6,
   "metadata": {},
   "outputs": [],
   "source": [
    "cursor = connect.cursor()"
   ]
  },
  {
   "cell_type": "code",
   "execution_count": 12,
   "metadata": {},
   "outputs": [],
   "source": [
    "cursor.execute('''\n",
    "    Create table If Not Exists Employee(\n",
    "            id Integer Primary Key,\n",
    "            Name Text Not Null,\n",
    "            Age Integer,\n",
    "            Department Text)\n",
    "            ''')\n",
    "\n",
    "connect.commit()"
   ]
  },
  {
   "cell_type": "code",
   "execution_count": 13,
   "metadata": {},
   "outputs": [
    {
     "data": {
      "text/plain": [
       "<sqlite3.Cursor at 0x709928501440>"
      ]
     },
     "execution_count": 13,
     "metadata": {},
     "output_type": "execute_result"
    }
   ],
   "source": [
    "cursor.execute('''\n",
    "    Select * from Employee\n",
    "            ''')\n"
   ]
  },
  {
   "cell_type": "code",
   "execution_count": 17,
   "metadata": {},
   "outputs": [],
   "source": [
    "cursor.execute('''\n",
    "            Insert into Employee(Name,Age,Department)\n",
    "            values('Rahul',35,'SW')   \n",
    "               ''')\n",
    "cursor.execute('''\n",
    "            Insert into Employee(Name,Age,Department)\n",
    "            values('Amal',35,'SY')   \n",
    "               ''')\n",
    "\n",
    "cursor.execute('''\n",
    "            Insert into Employee(Name,Age,Department)\n",
    "            values('Anas',35,'SY') \n",
    "               ''') \n",
    "connect.commit()\n"
   ]
  },
  {
   "cell_type": "code",
   "execution_count": 18,
   "metadata": {},
   "outputs": [
    {
     "name": "stdout",
     "output_type": "stream",
     "text": [
      "(1, 'Rahul', 35, 'SW')\n",
      "(2, 'Rahul', 35, 'SW')\n",
      "(3, 'Amal', 35, 'SY')\n",
      "(4, 'Anas', 35, 'SY')\n"
     ]
    }
   ],
   "source": [
    "cursor.execute('''\n",
    "    Select * from Employee\n",
    "            ''')\n",
    "rows = cursor.fetchall()\n",
    "for row in rows:\n",
    "    print(row)\n"
   ]
  }
 ],
 "metadata": {
  "kernelspec": {
   "display_name": "Python 3",
   "language": "python",
   "name": "python3"
  },
  "language_info": {
   "codemirror_mode": {
    "name": "ipython",
    "version": 3
   },
   "file_extension": ".py",
   "mimetype": "text/x-python",
   "name": "python",
   "nbconvert_exporter": "python",
   "pygments_lexer": "ipython3",
   "version": "3.12.0"
  }
 },
 "nbformat": 4,
 "nbformat_minor": 2
}
